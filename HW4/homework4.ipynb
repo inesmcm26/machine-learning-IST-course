{
 "cells": [
  {
   "cell_type": "markdown",
   "metadata": {},
   "source": [
    "### Parse of input"
   ]
  },
  {
   "cell_type": "code",
   "execution_count": null,
   "metadata": {},
   "outputs": [],
   "source": [
    "import pandas as pd\n",
    "from scipy.io.arff import loadarff\n",
    "import numpy as np\n",
    "from sklearn.cluster import KMeans\n",
    "from sklearn.metrics import silhouette_score\n",
    "from sklearn.feature_selection import SelectKBest, mutual_info_classif\n",
    "import matplotlib.pyplot as plt\n",
    "\n",
    "raw_data = loadarff('breast.w.arff')\n",
    "df_data = pd.DataFrame(raw_data[0]).dropna()  # converting data to a pandas DataFrame\n",
    "df_data['Class'].replace({b'malignant': 1, b'benign': 0}, inplace=True)"
   ]
  },
  {
   "cell_type": "markdown",
   "metadata": {},
   "source": [
    "### K-means clustering unsupervised on the original data with 𝑘 = 2 and 𝑘 = 3 compared with ECR and Silhouette coefficient"
   ]
  },
  {
   "cell_type": "code",
   "execution_count": null,
   "metadata": {},
   "outputs": [],
   "source": [
    "X, y = df_data.drop(columns='Class'), df_data['Class']\n",
    "\n",
    "def ECR(k):\n",
    "    ecr = 0\n",
    "    for c in range(k):\n",
    "        points = df_data.loc[df_data['Cluster'] == c]\n",
    "        max_frequency_class = max(points['Class'].value_counts())\n",
    "        ecr += (len(points) - max_frequency_class)\n",
    "    return ecr / k\n",
    "\n",
    "\n",
    "for k in [2,3]:\n",
    "    kmeans = KMeans(n_clusters = k)\n",
    "    df_data['Cluster'] = kmeans.fit_predict(X) # new column with the cluster to which the point is assigned\n",
    "\n",
    "    print(\"For k =\", k, \"ECR:\", ECR(k), \"Silhouette:\", silhouette_score(X, kmeans.labels_, metric='euclidean'))"
   ]
  },
  {
   "cell_type": "markdown",
   "metadata": {},
   "source": [
    "### K = 3 clustering solution using the top-2 features with higher mutual information"
   ]
  },
  {
   "cell_type": "code",
   "execution_count": null,
   "metadata": {},
   "outputs": [],
   "source": [
    "kbest = SelectKBest(mutual_info_classif, k=2)\n",
    "x_transformed = kbest.fit_transform(X, y) # data with only the selected features\n",
    "cols = kbest.get_support(indices=True) # indexes of the selected features\n",
    "feat1, feat2 = df_data.columns[cols[0]], df_data.columns[cols[1]] # names of the features\n",
    "\n",
    "cen_x, cen_y = kmeans.cluster_centers_[:,cols[0]], kmeans.cluster_centers_[:,cols[1]] # centroid axis values with only the selected features\n",
    "\n",
    "colors = ['#DF2020', '#81DF20', '#2095DF']\n",
    "mapped_colors = np.array([colors[i] for i in df_data['Cluster']]) # getting colors for each point according to cluster color\n",
    "\n",
    "plt.figure(figsize=(10,4))\n",
    "plt.scatter(x_transformed[y == 0][:,0], x_transformed[y == 0][:,1], c = mapped_colors[y==0], s = 40, marker='o')\n",
    "plt.scatter(x_transformed[y == 1][:,0], x_transformed[y == 1][:,1], c =  mapped_colors[y==1], s = 20, marker='^')\n",
    "plt.scatter(cen_x, cen_y, c = colors , s = 100, alpha=0.5)\n",
    "\n",
    "plt.xlabel(feat1)\n",
    "plt.ylabel(feat2)"
   ]
  }
 ],
 "metadata": {
  "interpreter": {
   "hash": "e7370f93d1d0cde622a1f8e1c04877d8463912d04d973331ad4851f04de6915a"
  },
  "kernelspec": {
   "display_name": "Python 3 (ipykernel)",
   "language": "python",
   "name": "python3"
  },
  "language_info": {
   "codemirror_mode": {
    "name": "ipython",
    "version": 3
   },
   "file_extension": ".py",
   "mimetype": "text/x-python",
   "name": "python",
   "nbconvert_exporter": "python",
   "pygments_lexer": "ipython3",
   "version": "3.9.12"
  },
  "orig_nbformat": 4
 },
 "nbformat": 4,
 "nbformat_minor": 2
}
