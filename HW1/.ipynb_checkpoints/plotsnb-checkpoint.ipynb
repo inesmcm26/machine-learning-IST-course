{
 "cells": [
  {
   "cell_type": "markdown",
   "metadata": {},
   "source": [
    "# Load data"
   ]
  },
  {
   "cell_type": "markdown",
   "metadata": {},
   "source": [
    "#### Creation of a pandas DataFrame to store the data from the input file. All the NaN values are droped and the binary values of 'Class' are maped into integers 0 and 1"
   ]
  },
  {
   "cell_type": "code",
   "execution_count": 2,
   "metadata": {},
   "outputs": [
    {
     "data": {
      "text/html": [
       "<div>\n",
       "<style scoped>\n",
       "    .dataframe tbody tr th:only-of-type {\n",
       "        vertical-align: middle;\n",
       "    }\n",
       "\n",
       "    .dataframe tbody tr th {\n",
       "        vertical-align: top;\n",
       "    }\n",
       "\n",
       "    .dataframe thead th {\n",
       "        text-align: right;\n",
       "    }\n",
       "</style>\n",
       "<table border=\"1\" class=\"dataframe\">\n",
       "  <thead>\n",
       "    <tr style=\"text-align: right;\">\n",
       "      <th></th>\n",
       "      <th>Clump_Thickness</th>\n",
       "      <th>Cell_Size_Uniformity</th>\n",
       "      <th>Cell_Shape_Uniformity</th>\n",
       "      <th>Marginal_Adhesion</th>\n",
       "      <th>Single_Epi_Cell_Size</th>\n",
       "      <th>Bare_Nuclei</th>\n",
       "      <th>Bland_Chromatin</th>\n",
       "      <th>Normal_Nucleoli</th>\n",
       "      <th>Mitoses</th>\n",
       "      <th>Class</th>\n",
       "    </tr>\n",
       "  </thead>\n",
       "  <tbody>\n",
       "    <tr>\n",
       "      <th>0</th>\n",
       "      <td>5.0</td>\n",
       "      <td>1.0</td>\n",
       "      <td>1.0</td>\n",
       "      <td>1.0</td>\n",
       "      <td>2.0</td>\n",
       "      <td>1.0</td>\n",
       "      <td>3.0</td>\n",
       "      <td>1.0</td>\n",
       "      <td>1.0</td>\n",
       "      <td>0</td>\n",
       "    </tr>\n",
       "    <tr>\n",
       "      <th>1</th>\n",
       "      <td>5.0</td>\n",
       "      <td>4.0</td>\n",
       "      <td>4.0</td>\n",
       "      <td>5.0</td>\n",
       "      <td>7.0</td>\n",
       "      <td>10.0</td>\n",
       "      <td>3.0</td>\n",
       "      <td>2.0</td>\n",
       "      <td>1.0</td>\n",
       "      <td>0</td>\n",
       "    </tr>\n",
       "    <tr>\n",
       "      <th>2</th>\n",
       "      <td>3.0</td>\n",
       "      <td>1.0</td>\n",
       "      <td>1.0</td>\n",
       "      <td>1.0</td>\n",
       "      <td>2.0</td>\n",
       "      <td>2.0</td>\n",
       "      <td>3.0</td>\n",
       "      <td>1.0</td>\n",
       "      <td>1.0</td>\n",
       "      <td>0</td>\n",
       "    </tr>\n",
       "    <tr>\n",
       "      <th>3</th>\n",
       "      <td>6.0</td>\n",
       "      <td>8.0</td>\n",
       "      <td>8.0</td>\n",
       "      <td>1.0</td>\n",
       "      <td>3.0</td>\n",
       "      <td>4.0</td>\n",
       "      <td>3.0</td>\n",
       "      <td>7.0</td>\n",
       "      <td>1.0</td>\n",
       "      <td>0</td>\n",
       "    </tr>\n",
       "    <tr>\n",
       "      <th>4</th>\n",
       "      <td>4.0</td>\n",
       "      <td>1.0</td>\n",
       "      <td>1.0</td>\n",
       "      <td>3.0</td>\n",
       "      <td>2.0</td>\n",
       "      <td>1.0</td>\n",
       "      <td>3.0</td>\n",
       "      <td>1.0</td>\n",
       "      <td>1.0</td>\n",
       "      <td>0</td>\n",
       "    </tr>\n",
       "    <tr>\n",
       "      <th>...</th>\n",
       "      <td>...</td>\n",
       "      <td>...</td>\n",
       "      <td>...</td>\n",
       "      <td>...</td>\n",
       "      <td>...</td>\n",
       "      <td>...</td>\n",
       "      <td>...</td>\n",
       "      <td>...</td>\n",
       "      <td>...</td>\n",
       "      <td>...</td>\n",
       "    </tr>\n",
       "    <tr>\n",
       "      <th>694</th>\n",
       "      <td>3.0</td>\n",
       "      <td>1.0</td>\n",
       "      <td>1.0</td>\n",
       "      <td>1.0</td>\n",
       "      <td>3.0</td>\n",
       "      <td>2.0</td>\n",
       "      <td>1.0</td>\n",
       "      <td>1.0</td>\n",
       "      <td>1.0</td>\n",
       "      <td>0</td>\n",
       "    </tr>\n",
       "    <tr>\n",
       "      <th>695</th>\n",
       "      <td>2.0</td>\n",
       "      <td>1.0</td>\n",
       "      <td>1.0</td>\n",
       "      <td>1.0</td>\n",
       "      <td>2.0</td>\n",
       "      <td>1.0</td>\n",
       "      <td>1.0</td>\n",
       "      <td>1.0</td>\n",
       "      <td>1.0</td>\n",
       "      <td>0</td>\n",
       "    </tr>\n",
       "    <tr>\n",
       "      <th>696</th>\n",
       "      <td>5.0</td>\n",
       "      <td>10.0</td>\n",
       "      <td>10.0</td>\n",
       "      <td>3.0</td>\n",
       "      <td>7.0</td>\n",
       "      <td>3.0</td>\n",
       "      <td>8.0</td>\n",
       "      <td>10.0</td>\n",
       "      <td>2.0</td>\n",
       "      <td>1</td>\n",
       "    </tr>\n",
       "    <tr>\n",
       "      <th>697</th>\n",
       "      <td>4.0</td>\n",
       "      <td>8.0</td>\n",
       "      <td>6.0</td>\n",
       "      <td>4.0</td>\n",
       "      <td>3.0</td>\n",
       "      <td>4.0</td>\n",
       "      <td>10.0</td>\n",
       "      <td>6.0</td>\n",
       "      <td>1.0</td>\n",
       "      <td>1</td>\n",
       "    </tr>\n",
       "    <tr>\n",
       "      <th>698</th>\n",
       "      <td>4.0</td>\n",
       "      <td>8.0</td>\n",
       "      <td>8.0</td>\n",
       "      <td>5.0</td>\n",
       "      <td>4.0</td>\n",
       "      <td>5.0</td>\n",
       "      <td>10.0</td>\n",
       "      <td>4.0</td>\n",
       "      <td>1.0</td>\n",
       "      <td>1</td>\n",
       "    </tr>\n",
       "  </tbody>\n",
       "</table>\n",
       "<p>683 rows × 10 columns</p>\n",
       "</div>"
      ],
      "text/plain": [
       "     Clump_Thickness  Cell_Size_Uniformity  Cell_Shape_Uniformity  \\\n",
       "0                5.0                   1.0                    1.0   \n",
       "1                5.0                   4.0                    4.0   \n",
       "2                3.0                   1.0                    1.0   \n",
       "3                6.0                   8.0                    8.0   \n",
       "4                4.0                   1.0                    1.0   \n",
       "..               ...                   ...                    ...   \n",
       "694              3.0                   1.0                    1.0   \n",
       "695              2.0                   1.0                    1.0   \n",
       "696              5.0                  10.0                   10.0   \n",
       "697              4.0                   8.0                    6.0   \n",
       "698              4.0                   8.0                    8.0   \n",
       "\n",
       "     Marginal_Adhesion  Single_Epi_Cell_Size  Bare_Nuclei  Bland_Chromatin  \\\n",
       "0                  1.0                   2.0          1.0              3.0   \n",
       "1                  5.0                   7.0         10.0              3.0   \n",
       "2                  1.0                   2.0          2.0              3.0   \n",
       "3                  1.0                   3.0          4.0              3.0   \n",
       "4                  3.0                   2.0          1.0              3.0   \n",
       "..                 ...                   ...          ...              ...   \n",
       "694                1.0                   3.0          2.0              1.0   \n",
       "695                1.0                   2.0          1.0              1.0   \n",
       "696                3.0                   7.0          3.0              8.0   \n",
       "697                4.0                   3.0          4.0             10.0   \n",
       "698                5.0                   4.0          5.0             10.0   \n",
       "\n",
       "     Normal_Nucleoli  Mitoses  Class  \n",
       "0                1.0      1.0      0  \n",
       "1                2.0      1.0      0  \n",
       "2                1.0      1.0      0  \n",
       "3                7.0      1.0      0  \n",
       "4                1.0      1.0      0  \n",
       "..               ...      ...    ...  \n",
       "694              1.0      1.0      0  \n",
       "695              1.0      1.0      0  \n",
       "696             10.0      2.0      1  \n",
       "697              6.0      1.0      1  \n",
       "698              4.0      1.0      1  \n",
       "\n",
       "[683 rows x 10 columns]"
      ]
     },
     "execution_count": 2,
     "metadata": {},
     "output_type": "execute_result"
    }
   ],
   "source": [
    "import pandas as pd\n",
    "from matplotlib import pyplot as plt\n",
    "from scipy.io.arff import loadarff\n",
    "\n",
    "raw_data = loadarff('breast.w.arff')\n",
    "df_data = pd.DataFrame(raw_data[0])\n",
    "df_data = df_data.dropna()\n",
    "df_data['Class'] = df_data['Class'].map({b'malignant': 1, b'benign': 0})\n",
    "df_data"
   ]
  },
  {
   "cell_type": "markdown",
   "metadata": {},
   "source": [
    "# Plots drawing"
   ]
  },
  {
   "cell_type": "code",
   "execution_count": 5,
   "metadata": {},
   "outputs": [
    {
     "data": {
      "image/png": "[encoded data removed]",
      "text/plain": [
       "<Figure size 720x720 with 9 Axes>"
      ]
     },
     "metadata": {
      "needs_background": "light"
     },
     "output_type": "display_data"
    },
    {
     "data": {
      "image/png": "[encoded data removed]",
      "text/plain": [
       "<Figure size 720x720 with 9 Axes>"
      ]
     },
     "metadata": {
      "needs_background": "light"
     },
     "output_type": "display_data"
    }
   ],
   "source": [
    "df_benign = df_data.loc[df_data['Class'] == 0].drop(columns=['Class'])\n",
    "df_malign = df_data.loc[df_data['Class'] == 1].drop(columns=['Class'])\n",
    "\n",
    "df_benign.hist(figsize=(10,10), color = \"c\")\n",
    "plt.savefig('benign_hist.png')\n",
    "df_malign.hist(figsize=(10,10), color = \"firebrick\")\n",
    "plt.savefig('malign_hist.png')"
   ]
  },
  {
   "cell_type": "markdown",
   "metadata": {},
   "source": [
    "# KNN cross validation - Finding the best K value"
   ]
  },
  {
   "cell_type": "code",
   "execution_count": 7,
   "metadata": {},
   "outputs": [
    {
     "name": "stdout",
     "output_type": "stream",
     "text": [
      "Accuracy with K = 3 0.9706947996589939\n",
      "Accuracy with K = 5 0.9736146632566071\n",
      "Accuracy with K = 7 0.9736572890025575\n"
     ]
    }
   ],
   "source": [
    "from sklearn.neighbors import KNeighborsClassifier\n",
    "from sklearn.model_selection import KFold\n",
    "import numpy as np\n",
    "\n",
    "data = df_data.drop(columns=['Class']).values\n",
    "target = df_data['Class'].values\n",
    "\n",
    "for k in range(3,8,2) :\n",
    "   \n",
    "    knn = KNeighborsClassifier(n_neighbors = k, weights=\"uniform\", p=2)\n",
    "\n",
    "    kf = KFold(n_splits = 10, shuffle = True , random_state = 10)\n",
    "    accuracies = []\n",
    "\n",
    "    for train_subset, test_subset in kf.split(data):\n",
    "        X_train, X_test = data[train_subset], data[test_subset]\n",
    "        Y_train, Y_test = target[train_subset], target[test_subset]\n",
    "        #train\n",
    "        knn.fit(X_train, Y_train)\n",
    "        #test\n",
    "        accuracies.append(knn.score(X_test, Y_test))\n",
    "\n",
    "\n",
    "    print(\"Accuracy with K = \" + str(k) + \" \" + str(np.mean(accuracies)))"
   ]
  },
  {
   "cell_type": "markdown",
   "metadata": {},
   "source": [
    "# KNN is superior to Naive Bayes"
   ]
  },
  {
   "cell_type": "code",
   "execution_count": 11,
   "metadata": {},
   "outputs": [
    {
     "name": "stdout",
     "output_type": "stream",
     "text": [
      "The alternative hypotesis : \"𝑘NN is statistically superior to Naïve Bayes\" is confirmed\n"
     ]
    }
   ],
   "source": [
    "from sklearn.naive_bayes import GaussianNB\n",
    "from scipy import stats\n",
    "\n",
    "# classifiers\n",
    "knn = KNeighborsClassifier(n_neighbors = 3, weights=\"uniform\", p=2)\n",
    "naive_bayes = GaussianNB()\n",
    "\n",
    "knn_acc, bayes_acc = [], []\n",
    "\n",
    "for train_subset, test_subset in kf.split(data):\n",
    "        X_train, X_test = data[train_subset], data[test_subset]\n",
    "        Y_train, Y_test = target[train_subset], target[test_subset]\n",
    "        #train\n",
    "        knn.fit(X_train, Y_train)\n",
    "        naive_bayes.fit(X_train, Y_train)\n",
    "        #test\n",
    "        knn_acc.append(knn.score(X_test, Y_test))\n",
    "        bayes_acc.append(naive_bayes.score(X_test, Y_test))\n",
    "\n",
    "t_value, pvalue = stats.ttest_rel(knn_acc, bayes_acc, alternative=\"greater\")\n",
    "if pvalue <= 0.05 :\n",
    "        print('The null hypotesis : \"𝑘NN is statistically equal to Naïve Bayes\" is rejected')\n",
    "else :\n",
    "        print('The alternative hypotesis : \"𝑘NN is statistically superior to Naïve Bayes\" is confirmed')\n"
   ]
  }
 ],
 "metadata": {
  "interpreter": {
   "hash": "e7370f93d1d0cde622a1f8e1c04877d8463912d04d973331ad4851f04de6915a"
  },
  "kernelspec": {
   "display_name": "Python 3 (ipykernel)",
   "language": "python",
   "name": "python3"
  },
  "language_info": {
   "codemirror_mode": {
    "name": "ipython",
    "version": 3
   },
   "file_extension": ".py",
   "mimetype": "text/x-python",
   "name": "python",
   "nbconvert_exporter": "python",
   "pygments_lexer": "ipython3",
   "version": "3.10.6"
  }
 },
 "nbformat": 4,
 "nbformat_minor": 2
}
